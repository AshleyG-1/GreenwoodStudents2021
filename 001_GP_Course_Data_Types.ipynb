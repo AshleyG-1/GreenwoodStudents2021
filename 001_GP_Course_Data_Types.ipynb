{
 "cells": [
  {
   "cell_type": "markdown",
   "metadata": {},
   "source": [
    "___\n",
    "\n",
    "___\n",
    "# GreenWood Project - Python Course: \n",
    "## Data types and variables\n",
    "\n",
    "### What is Python ? Why use it ?\n",
    "\n",
    "This Course will go through Python data/variables types:"
   ]
  },
  {
   "cell_type": "markdown",
   "metadata": {},
   "source": [
    "## Table of Contents\n",
    "\n",
    "<div class=\"alert alert-block alert-info\" style=\"margin-top: 20px\">\n",
    "\n",
    "[Introduction](#0)<br>\n",
    "    I. [Numeric](#1)<br>\n",
    "    II. [Dictionnary](#2)<br>\n",
    "    III. [Sequences](#3)<br>\n",
    "    IV. [Boolean](#4)<br>\n",
    "    V. [Set](#5)<br>\n",
    "    VI. [Useful Methods](#6)<br>\n",
    "    </div>"
   ]
  },
  {
   "cell_type": "markdown",
   "metadata": {},
   "source": [
    "---\n",
    "# Introduction <a id=\"0\"></a>\n",
    "## Variable names"
   ]
  },
  {
   "cell_type": "markdown",
   "metadata": {},
   "source": [
    "<div class=\"alert alert-block alert-info\">\n",
    "<b>Rules for variable name:</b>\n",
    "    \n",
    "- names can not start with a number\n",
    "\n",
    "- names can not contain spaces, use _ intead\n",
    "\n",
    "- names can not contain any of these symbols:\n",
    "\n",
    "    * :'\",<>/?|\\!@#%^&*~-+\n",
    "- it's considered best practice (PEP8) that names are lowercase with underscores\n",
    "\n",
    "- avoid using Python built-in keywords like list and str\n",
    "\n",
    "- avoid using the single characters l (lowercase letter el), O (uppercase letter oh) and I (uppercase letter eye) as they can be confused with 1 and 0\n",
    "</div>"
   ]
  },
  {
   "cell_type": "markdown",
   "metadata": {},
   "source": [
    "**Variable assignement**\n",
    "\n",
    "Variable assignment follows `name = object`, where a single equals sign `=` is an *assignment operator*"
   ]
  },
  {
   "cell_type": "code",
   "execution_count": 161,
   "metadata": {},
   "outputs": [
    {
     "data": {
      "text/plain": [
       "100"
      ]
     },
     "execution_count": 161,
     "metadata": {},
     "output_type": "execute_result"
    }
   ],
   "source": [
    "var = 100\n",
    "var"
   ]
  },
  {
   "cell_type": "markdown",
   "metadata": {},
   "source": [
    "**Determining variable type with type()**\n",
    "\n",
    "Check variable's object type with Python's built-in `type()` function.\n",
    "* **int** (for integer)\n",
    "* **float**\n",
    "* **str** (for string)\n",
    "* **list**\n",
    "* **tuple**\n",
    "* **dict** (for dictionary)\n",
    "* **set**\n",
    "* **bool** (for Boolean True/False)"
   ]
  },
  {
   "cell_type": "markdown",
   "metadata": {},
   "source": [
    "## Arithmetic operations"
   ]
  },
  {
   "cell_type": "code",
   "execution_count": 163,
   "metadata": {},
   "outputs": [
    {
     "name": "stdout",
     "output_type": "stream",
     "text": [
      "110\n",
      "500\n",
      "20.0\n",
      "10000\n",
      "Floor division: 3\n",
      "Modulo: 1\n"
     ]
    }
   ],
   "source": [
    "print(var + 10)\n",
    "print(var*5)\n",
    "print(var/5)\n",
    "print(var**2)\n",
    "print(\"Floor division:\",11 // 3)\n",
    "print(\"Modulo:\", 11%2)"
   ]
  },
  {
   "cell_type": "markdown",
   "metadata": {},
   "source": [
    "---\n",
    "# I. Numeric <a id=\"1\"></a>\n",
    "\n",
    "Numeric data type represent the data which has numeric value. Numeric value can be integer, floating number or even complex numbers. These values are defined as int, float and complex class\n",
    "* **Integers** : Integer variables are represented by int class. It contains positive or negative whole numbers (without fraction or decimal)\n",
    "* **Float** – Float variables are represented by float class. It is a real number with floating point representation. It is specified by a decimal point. Optionnaly, the character e or E followed by a positive or negative integer may be appended to specify scientific notation.\n",
    "* **Complex Numbers** – Complex numbers are represented by complex class. It is specified as (real part) + (imaginary part)*j. For example – 2+3j\n",
    "\n",
    "| Example | Number Types |\n",
    "| --- | --- |\n",
    "| 1,100,55,1000 | Integers |\n",
    "| 1.1,30.45,5e8 | Floats |"
   ]
  },
  {
   "cell_type": "code",
   "execution_count": 7,
   "metadata": {},
   "outputs": [
    {
     "name": "stdout",
     "output_type": "stream",
     "text": [
      "Type of a:  <class 'int'>\n",
      "\n",
      "Type of b:  <class 'float'>\n",
      "\n",
      "Type of b:  <class 'float'>\n",
      "\n",
      "Type of c:  <class 'complex'>\n"
     ]
    }
   ],
   "source": [
    "a = 10\n",
    "print(\"Type of a: \", type(a))\n",
    " \n",
    "b = 10.0\n",
    "print(\"\\nType of b: \", type(b))\n",
    "\n",
    "c = 1e3\n",
    "print(\"\\nType of b: \", type(c))\n",
    "\n",
    "d = 2 + 4j\n",
    "print(\"\\nType of c: \", type(d))"
   ]
  },
  {
   "cell_type": "markdown",
   "metadata": {},
   "source": [
    "**What are the type of the flowing data ?**"
   ]
  },
  {
   "cell_type": "code",
   "execution_count": null,
   "metadata": {},
   "outputs": [],
   "source": [
    "type(10.12)"
   ]
  },
  {
   "cell_type": "code",
   "execution_count": null,
   "metadata": {},
   "outputs": [],
   "source": [
    "type(10/2)"
   ]
  },
  {
   "cell_type": "code",
   "execution_count": null,
   "metadata": {},
   "outputs": [],
   "source": [
    "type(1000)"
   ]
  },
  {
   "cell_type": "code",
   "execution_count": null,
   "metadata": {},
   "outputs": [],
   "source": [
    "type(100+200)"
   ]
  },
  {
   "cell_type": "code",
   "execution_count": null,
   "metadata": {},
   "outputs": [],
   "source": [
    "type(100/100+200)"
   ]
  },
  {
   "cell_type": "markdown",
   "metadata": {},
   "source": [
    "---\n",
    "# II. Dictionnary<a id=\"2\"></a>\n",
    "Dictionaries are Python’s implementation of a data structure that is more generally known as mapping.\n",
    "\n",
    "Mappings are a collection of objects that are stored by a key, unlike a sequence that stored objects by their relative position.\n",
    "\n",
    "A dictionary consists of a collection of key-value pairs. Each key-value pair maps the key to its associated value.\n",
    "\n",
    "You can define a dictionary by enclosing a comma-separated list of key-value pairs in curly braces ({}). A colon (:) separates each key from its associated value:\n",
    "Dictionary can also be created by the built-in function dict().\n",
    "\n",
    "**Values in a dictionary can be of any datatype and can be duplicated, whereas keys are unique.**"
   ]
  },
  {
   "cell_type": "code",
   "execution_count": 33,
   "metadata": {},
   "outputs": [
    {
     "data": {
      "text/plain": [
       "{0: 10, 1: 'Go', 'ind': 1000.0}"
      ]
     },
     "execution_count": 33,
     "metadata": {},
     "output_type": "execute_result"
    }
   ],
   "source": [
    "Mydict = {0: 10, 1: 'Go', 'ind': 1e3}\n",
    "Mydict"
   ]
  },
  {
   "cell_type": "code",
   "execution_count": 34,
   "metadata": {},
   "outputs": [
    {
     "name": "stdout",
     "output_type": "stream",
     "text": [
      "Type: <class 'dict'>\n",
      "keys: dict_keys([0, 1, 'ind'])\n",
      "values: dict_values([10, 'Go', 1000.0])\n",
      "Accessing elements: 1000.0 1000.0\n",
      "Add element to dict: {0: 10, 1: 'Go', 'ind': 1000.0, 'Add': 100}\n",
      "Add element to dict: {0: 10, 1: 'Go', 'ind': 1000.0}\n"
     ]
    }
   ],
   "source": [
    "print('Type:',type(Mydict))\n",
    "print('keys:',Mydict.keys())\n",
    "print('values:',Mydict.values())\n",
    "print('Accessing elements:',Mydict['ind'],Mydict.get('ind'))\n",
    "Mydict['Add'] = 100\n",
    "print('Add element to dict:', Mydict)\n",
    "Mydict.pop('Add')\n",
    "print('Add element to dict:', Mydict)"
   ]
  },
  {
   "cell_type": "markdown",
   "metadata": {},
   "source": [
    "**Let's practise**"
   ]
  },
  {
   "cell_type": "code",
   "execution_count": 9,
   "metadata": {},
   "outputs": [
    {
     "data": {
      "text/plain": [
       "{'Apple': 'Key 1 ',\n",
       " 'Not Apple': 1000,\n",
       " 'This is not a key': 'This is a key',\n",
       " 'Not Key': 'Key 4',\n",
       " 2000: 'Random Key'}"
      ]
     },
     "execution_count": 9,
     "metadata": {},
     "output_type": "execute_result"
    }
   ],
   "source": [
    "d = {'Apple': 'Key 1 ',\n",
    "          'Not Apple': 1000,\n",
    "          'This is not a key': 'This is a key',\n",
    "         'Not Key': 'Key 4',\n",
    "         2000: 'Random Key'}\n",
    "d"
   ]
  },
  {
   "cell_type": "markdown",
   "metadata": {},
   "source": [
    "**Last key ?**"
   ]
  },
  {
   "cell_type": "markdown",
   "metadata": {},
   "source": [
    "**First key ?**"
   ]
  },
  {
   "cell_type": "markdown",
   "metadata": {},
   "source": [
    "**A value** ?"
   ]
  },
  {
   "cell_type": "code",
   "execution_count": null,
   "metadata": {},
   "outputs": [],
   "source": [
    "d.keys()"
   ]
  },
  {
   "cell_type": "code",
   "execution_count": null,
   "metadata": {},
   "outputs": [],
   "source": [
    "d.values()"
   ]
  },
  {
   "cell_type": "markdown",
   "metadata": {},
   "source": [
    "----\n",
    "\n",
    "# III. Sequence<a id=\"3\"></a>\n",
    "Sequence are ordered collection of similar or different data types.\n",
    "they are a positionally ordered collection of items. And you can refer to any item in the sequence by using its index number e.g., s[0] and s[1]\n",
    "\n",
    "Several sequence types exist, we'll be covering:\n",
    "* **string**: arrays of bytes representing Unicode characters. A string is a collection of one or more characters put in a single quote, double-quote or triple quote.A character is a string of length one. It is represented by str class.\n",
    "\n",
    "\n",
    "* **list**: ordered collection of data, can be created by just placing the sequence inside the square brackets[]\n",
    "\n",
    "\n",
    "* **tuple**: Same as list but tuples are immutable meaning, they cannot be modified after they are created, tuples are created by placing a sequence of values separated by ‘comma’ with or without the use of parentheses for grouping of the data sequence.\n",
    "## II.1 Strings\n",
    "\n",
    "Strings record text information, such as names."
   ]
  },
  {
   "cell_type": "code",
   "execution_count": 39,
   "metadata": {},
   "outputs": [
    {
     "name": "stdout",
     "output_type": "stream",
     "text": [
      "Type <class 'str'>\n",
      "First element: p\n"
     ]
    }
   ],
   "source": [
    "s = 'python'\n",
    "print('Type',type(s))\n",
    "print('First element:',s[0])"
   ]
  },
  {
   "attachments": {
    "image.png": {
     "image/png": "[encoded data removed]"
    }
   },
   "cell_type": "markdown",
   "metadata": {},
   "source": [
    "**Accessing a string**\n",
    "\n",
    "Individual characters of a String can be accessed by using the method of Indexing\n",
    "![image.png](attachment:image.png)"
   ]
  },
  {
   "cell_type": "code",
   "execution_count": 44,
   "metadata": {},
   "outputs": [
    {
     "data": {
      "text/plain": [
       "('p', 'p', 'n', 'n')"
      ]
     },
     "execution_count": 44,
     "metadata": {},
     "output_type": "execute_result"
    }
   ],
   "source": [
    "s[0],s[-6],s[5],s[-1]"
   ]
  },
  {
   "cell_type": "markdown",
   "metadata": {},
   "source": [
    "**String Slicing**"
   ]
  },
  {
   "cell_type": "code",
   "execution_count": 52,
   "metadata": {},
   "outputs": [
    {
     "name": "stdout",
     "output_type": "stream",
     "text": [
      "pyt hon python yt ho\n"
     ]
    }
   ],
   "source": [
    "print(s[:3],s[-3:],s[:6],s[1:3],s[-3:-1]) "
   ]
  },
  {
   "cell_type": "markdown",
   "metadata": {},
   "source": [
    "**Concatenate strings**"
   ]
  },
  {
   "cell_type": "code",
   "execution_count": 168,
   "metadata": {},
   "outputs": [
    {
     "data": {
      "text/plain": [
       "'Learn python  Now'"
      ]
     },
     "execution_count": 168,
     "metadata": {},
     "output_type": "execute_result"
    }
   ],
   "source": [
    "'Learn ' + 'python ' + ' Now'"
   ]
  },
  {
   "cell_type": "markdown",
   "metadata": {},
   "source": [
    "**Formatting strings**\n",
    "\n",
    "Strings in Python can be formatted with the use of **format()** method which is very versatile and powerful tool for formatting of Strings.\n",
    "Format method in String contains curly braces {} as placeholders which can hold arguments according to position or keyword to specify the order."
   ]
  },
  {
   "cell_type": "code",
   "execution_count": 13,
   "metadata": {},
   "outputs": [
    {
     "data": {
      "text/plain": [
       "'python Learn Now'"
      ]
     },
     "execution_count": 13,
     "metadata": {},
     "output_type": "execute_result"
    }
   ],
   "source": [
    "\"{1} {0} {2}\".format('Learn', 'python', 'Now')"
   ]
  },
  {
   "cell_type": "markdown",
   "metadata": {},
   "source": [
    "**Let's Practise**"
   ]
  },
  {
   "cell_type": "code",
   "execution_count": null,
   "metadata": {},
   "outputs": [],
   "source": [
    "\"{1} {2} {1}\".format('Learn', 'python', 'Now')"
   ]
  },
  {
   "cell_type": "code",
   "execution_count": null,
   "metadata": {},
   "outputs": [],
   "source": [
    "\"{1} {2} {0}\".format('Learn', 'python', 'Now','Go','Light')"
   ]
  },
  {
   "cell_type": "code",
   "execution_count": null,
   "metadata": {},
   "outputs": [],
   "source": [
    "\"{1} {1} {1}\".format('Learn', 'python', 'Now','Later','Not')"
   ]
  },
  {
   "cell_type": "code",
   "execution_count": null,
   "metadata": {},
   "outputs": [],
   "source": [
    "word ='Unimaginatively'"
   ]
  },
  {
   "cell_type": "markdown",
   "metadata": {},
   "source": [
    "**Last letter ?**"
   ]
  },
  {
   "cell_type": "markdown",
   "metadata": {},
   "source": [
    "**First 5 letters ?**"
   ]
  },
  {
   "cell_type": "markdown",
   "metadata": {},
   "source": [
    "**Last 3 letters ?**"
   ]
  },
  {
   "cell_type": "markdown",
   "metadata": {},
   "source": [
    "<div class=\"alert alert-block alert-success\">\n",
    "<b>Bear in mind:</b> format() method can handle complex string formatting more efficiently.\n",
    "</div>"
   ]
  },
  {
   "cell_type": "markdown",
   "metadata": {},
   "source": [
    "## II.2. Lists\n",
    "Lists are defined in Python by enclosing a comma-separated sequence of objects in square brackets ([]).\n",
    "- Lists are ordered.\n",
    "- Lists can contain any arbitrary objects.\n",
    "- List elements can be accessed by index.\n",
    "- Lists can be nested, meaning a list can contain sublists, which in turn can contain sublists themselves.\n",
    "- Lists are mutable, meaning list elements can be added, deleted, shifted , mooved...\n",
    "- Lists are dynamic, elements can be added or remove."
   ]
  },
  {
   "cell_type": "code",
   "execution_count": 111,
   "metadata": {},
   "outputs": [
    {
     "data": {
      "text/plain": [
       "list"
      ]
     },
     "execution_count": 111,
     "metadata": {},
     "output_type": "execute_result"
    }
   ],
   "source": [
    "Mylist = [2,4,6,'Go']\n",
    "type(Mylist)"
   ]
  },
  {
   "cell_type": "code",
   "execution_count": 156,
   "metadata": {},
   "outputs": [
    {
     "data": {
      "text/plain": [
       "[2, 4, 'Now', [3, 4, 5, 8]]"
      ]
     },
     "execution_count": 156,
     "metadata": {},
     "output_type": "execute_result"
    }
   ],
   "source": [
    "a = [2,4,'Now',[3,4,5,8]]\n",
    "a"
   ]
  },
  {
   "cell_type": "markdown",
   "metadata": {},
   "source": [
    "### Famous methods on lists"
   ]
  },
  {
   "cell_type": "code",
   "execution_count": 157,
   "metadata": {},
   "outputs": [
    {
     "name": "stdout",
     "output_type": "stream",
     "text": [
      "Access first element: 2\n",
      "Access last element: [3, 4, 5, 8]\n",
      "Access elements of sublit: 3 4 \n",
      "\n",
      "List length: 4\n",
      "Reverse list: [[3, 4, 5, 8], 'Now', 4, 2]\n",
      "Slice of a list: [4, 'Now'] \n",
      "\n"
     ]
    }
   ],
   "source": [
    "print('Access first element:',a[0])\n",
    "print('Access last element:',a[-1])\n",
    "print('Access elements of sublit:',a[-1][0],a[-1][1],'\\n')\n",
    "##\n",
    "print('List length:',len(a))\n",
    "print('Reverse list:',a[::-1])\n",
    "print('Slice of a list:',a[1:3],'\\n')"
   ]
  },
  {
   "cell_type": "code",
   "execution_count": 174,
   "metadata": {},
   "outputs": [
    {
     "name": "stdout",
     "output_type": "stream",
     "text": [
      "Append an element in list: [2, 4, 'Now', [3, 4, 5, 8], 100]\n",
      "Insert at specific index: [2, 'Here insert', 4, 'Now', [3, 4, 5, 8], 100] \n",
      "\n",
      "Remove by index: [2, 'Here insert', 4, 'Now', [3, 4, 5, 8]]\n",
      "Remove by value: [2, 4, 'Now', [3, 4, 5, 8]] \n",
      "\n",
      "Concatenate: [2, 4, 'Now', [3, 4, 5, 8], 2, 4, 'Now', [3, 4, 5, 8]] \n",
      " [2, 4, 'Now', [3, 4, 5, 8], 2, 4, 'Now', [3, 4, 5, 8]] \n",
      " Previous list keeps unchanged\n"
     ]
    }
   ],
   "source": [
    "a.append(100)\n",
    "print('Append an element in list:',a)\n",
    "##\n",
    "a.insert(1,'Here insert')\n",
    "print('Insert at specific index:',a,'\\n')\n",
    "##\n",
    "del a[-1]\n",
    "print('Remove by index:',a)\n",
    "##\n",
    "a.remove('Here insert')\n",
    "print('Remove by value:',a,'\\n')\n",
    "##\n",
    "print('Concatenate:',a+a,'\\n',2*a,'\\n', 'Previous list keeps unchanged')\n",
    "##"
   ]
  },
  {
   "cell_type": "code",
   "execution_count": 179,
   "metadata": {},
   "outputs": [
    {
     "name": "stdout",
     "output_type": "stream",
     "text": [
      "list sorted: [1, 2, 3, 4]\n"
     ]
    }
   ],
   "source": [
    "a =[ 3, 4 ,2, 1]\n",
    "a.sort() # or sorted(a)\n",
    "print('list sorted:',a)"
   ]
  },
  {
   "cell_type": "markdown",
   "metadata": {},
   "source": [
    "## II.3. Tuples\n",
    "Tuples are identical to lists in all respects, except for:\n",
    "\n",
    "- Tuples are defined by enclosing the elements in parentheses (()) instead of square brackets ([]).\n",
    "- Tuples are immutable."
   ]
  },
  {
   "cell_type": "code",
   "execution_count": 140,
   "metadata": {},
   "outputs": [
    {
     "data": {
      "text/plain": [
       "tuple"
      ]
     },
     "execution_count": 140,
     "metadata": {},
     "output_type": "execute_result"
    }
   ],
   "source": [
    "t = (2,3,6,'Now')\n",
    "type(t)"
   ]
  },
  {
   "cell_type": "markdown",
   "metadata": {},
   "source": [
    "### Famous Operations on tuples"
   ]
  },
  {
   "cell_type": "code",
   "execution_count": 148,
   "metadata": {},
   "outputs": [
    {
     "name": "stdout",
     "output_type": "stream",
     "text": [
      "Access first element: 2\n",
      "Access last element: Now \n",
      "\n",
      "List length: 4\n",
      "Reverse list: ('Now', 6, 3, 2)\n",
      "Slice of a list: (3, 6) \n",
      "\n",
      "Concatenate: (2, 3, 6, 'Now', 2, 3, 6, 'Now') (2, 3, 6, 'Now', 2, 3, 6, 'Now')\n"
     ]
    }
   ],
   "source": [
    "print('Access first element:',t[0])\n",
    "print('Access last element:',t[-1],'\\n')\n",
    "##\n",
    "print('List length:',len(t))\n",
    "print('Reverse list:',t[::-1])\n",
    "print('Slice of a list:',t[1:3],'\\n')\n",
    "##\n",
    "print('Concatenate:',t+t,2*t)"
   ]
  },
  {
   "cell_type": "markdown",
   "metadata": {},
   "source": [
    "<div class=\"alert alert-block alert-success\">\n",
    "<b>Bear in mind:</b>\n",
    "    \n",
    "**Why use a tuple instead of a list?**\n",
    "\n",
    "- Program execution is faster when manipulating a tuple than it is for a list.\n",
    "\n",
    "- Tuples are not used as often as lists in programming, but are used when immutability is necessary.\n",
    "</div>"
   ]
  },
  {
   "cell_type": "markdown",
   "metadata": {},
   "source": [
    "<div class=\"alert alert-block alert-danger\">\n",
    "<b>Just don't:</b> Apply editing methods on tuples, they are immutable.\n",
    "</div>"
   ]
  },
  {
   "cell_type": "markdown",
   "metadata": {},
   "source": [
    "# IV. Boolean<a id=\"4\"></a>\n",
    "Data type with one of the two built-in values: \n",
    "* True\n",
    "* False\n",
    "\n",
    "Boolean objects that are equal to True are truthy (true), and those equal to False are falsy (false)"
   ]
  },
  {
   "cell_type": "markdown",
   "metadata": {},
   "source": [
    "<div class=\"alert alert-block alert-success\">\n",
    "<b>Bear in mind:</b> True and False with capital ‘T’ and ‘F’ are valid booleans otherwise python will throw an error.\n",
    "</div>"
   ]
  },
  {
   "cell_type": "code",
   "execution_count": 55,
   "metadata": {},
   "outputs": [
    {
     "data": {
      "text/plain": [
       "bool"
      ]
     },
     "execution_count": 55,
     "metadata": {},
     "output_type": "execute_result"
    }
   ],
   "source": [
    "type(True)"
   ]
  },
  {
   "cell_type": "code",
   "execution_count": 180,
   "metadata": {},
   "outputs": [
    {
     "name": "stdout",
     "output_type": "stream",
     "text": [
      "Is a > 10: False\n",
      "Is a = 10: True\n"
     ]
    }
   ],
   "source": [
    "a = 10\n",
    "print('Is a > 10:', a > 10)\n",
    "print('Is a = 10:', a == 10)"
   ]
  },
  {
   "cell_type": "markdown",
   "metadata": {},
   "source": [
    "**Let's practise**"
   ]
  },
  {
   "cell_type": "code",
   "execution_count": null,
   "metadata": {},
   "outputs": [],
   "source": [
    "1000 > 1e3"
   ]
  },
  {
   "cell_type": "code",
   "execution_count": null,
   "metadata": {},
   "outputs": [],
   "source": [
    "1e3-1 < 1000"
   ]
  },
  {
   "cell_type": "code",
   "execution_count": null,
   "metadata": {},
   "outputs": [],
   "source": [
    "1e3 == 1000/1"
   ]
  },
  {
   "cell_type": "code",
   "execution_count": null,
   "metadata": {},
   "outputs": [],
   "source": [
    "1e3 == 1000."
   ]
  },
  {
   "cell_type": "markdown",
   "metadata": {},
   "source": [
    "# V. Sets<a id=\"5\"></a>\n",
    "\n",
    "Sets are unordered collection of similar or different data types:\n",
    "Sets hav the following characteristics:\n",
    "\n",
    "- Sets are unordered.\n",
    "- Set elements are unique. Duplicate elements are not allowed.\n",
    "- A set itself may be modified, but the elements contained in the set must be of an immutable type.\n",
    "\n",
    "A set can be created in two ways: \n",
    "- Define a set with the built-in set() function:\n",
    "- Define with curly braces ({}):\n"
   ]
  },
  {
   "cell_type": "code",
   "execution_count": 183,
   "metadata": {},
   "outputs": [
    {
     "data": {
      "text/plain": [
       "({1, 2, 3}, {1, 2, 3}, True)"
      ]
     },
     "execution_count": 183,
     "metadata": {},
     "output_type": "execute_result"
    }
   ],
   "source": [
    "set1 = set([1,2,3])\n",
    "set2 = {1, 2, 3}\n",
    "set1,set2 , set1 == set2"
   ]
  },
  {
   "cell_type": "code",
   "execution_count": 184,
   "metadata": {},
   "outputs": [
    {
     "data": {
      "text/plain": [
       "(dict, set)"
      ]
     },
     "execution_count": 184,
     "metadata": {},
     "output_type": "execute_result"
    }
   ],
   "source": [
    "type({}),type(set())"
   ]
  },
  {
   "cell_type": "markdown",
   "metadata": {},
   "source": [
    "**add an element to a set**"
   ]
  },
  {
   "cell_type": "code",
   "execution_count": 185,
   "metadata": {},
   "outputs": [
    {
     "data": {
      "text/plain": [
       "{1, 2, 3, 100}"
      ]
     },
     "execution_count": 185,
     "metadata": {},
     "output_type": "execute_result"
    }
   ],
   "source": [
    "set1.add(100)\n",
    "set1"
   ]
  },
  {
   "cell_type": "code",
   "execution_count": 186,
   "metadata": {},
   "outputs": [
    {
     "data": {
      "text/plain": [
       "{1, 2, 3, 100}"
      ]
     },
     "execution_count": 186,
     "metadata": {},
     "output_type": "execute_result"
    }
   ],
   "source": [
    "set1.add(100)\n",
    "set1"
   ]
  },
  {
   "cell_type": "markdown",
   "metadata": {},
   "source": [
    "<div class=\"alert alert-block alert-info\">\n",
    "<b>Tip:</b>. \n",
    "Use set() method to define a set, curly braket for empty element are interpreted as dict.\n",
    "</div>"
   ]
  },
  {
   "cell_type": "markdown",
   "metadata": {},
   "source": [
    "<div class=\"alert alert-block alert-danger\">\n",
    "<b>Just don't:</b> Access sets by indexing, sets are unordered.\n",
    "</div>"
   ]
  },
  {
   "cell_type": "markdown",
   "metadata": {},
   "source": [
    "# IV. Useful Methods<a id=\"6\"></a>"
   ]
  },
  {
   "cell_type": "markdown",
   "metadata": {},
   "source": [
    "**Converting from a data type to another**"
   ]
  },
  {
   "cell_type": "code",
   "execution_count": 191,
   "metadata": {},
   "outputs": [],
   "source": [
    "a = [2,3,4,5,2]"
   ]
  },
  {
   "cell_type": "code",
   "execution_count": 192,
   "metadata": {},
   "outputs": [
    {
     "data": {
      "text/plain": [
       "(2, 3, 4, 5, 2)"
      ]
     },
     "execution_count": 192,
     "metadata": {},
     "output_type": "execute_result"
    }
   ],
   "source": [
    "tuple(a)"
   ]
  },
  {
   "cell_type": "code",
   "execution_count": 193,
   "metadata": {},
   "outputs": [
    {
     "data": {
      "text/plain": [
       "{2, 3, 4, 5}"
      ]
     },
     "execution_count": 193,
     "metadata": {},
     "output_type": "execute_result"
    }
   ],
   "source": [
    "set(a)"
   ]
  },
  {
   "cell_type": "code",
   "execution_count": 195,
   "metadata": {},
   "outputs": [],
   "source": [
    "t = (2, 3, 4, 5, 2)"
   ]
  },
  {
   "cell_type": "code",
   "execution_count": 196,
   "metadata": {},
   "outputs": [
    {
     "data": {
      "text/plain": [
       "[2, 3, 4, 5, 2]"
      ]
     },
     "execution_count": 196,
     "metadata": {},
     "output_type": "execute_result"
    }
   ],
   "source": [
    "list(t)"
   ]
  },
  {
   "cell_type": "code",
   "execution_count": 197,
   "metadata": {},
   "outputs": [
    {
     "data": {
      "text/plain": [
       "{2, 3, 4, 5}"
      ]
     },
     "execution_count": 197,
     "metadata": {},
     "output_type": "execute_result"
    }
   ],
   "source": [
    "set(t)"
   ]
  },
  {
   "cell_type": "code",
   "execution_count": 202,
   "metadata": {},
   "outputs": [],
   "source": [
    "s = 'pythonn'"
   ]
  },
  {
   "cell_type": "code",
   "execution_count": 203,
   "metadata": {},
   "outputs": [
    {
     "data": {
      "text/plain": [
       "['p', 'y', 't', 'h', 'o', 'n', 'n']"
      ]
     },
     "execution_count": 203,
     "metadata": {},
     "output_type": "execute_result"
    }
   ],
   "source": [
    "list(s)"
   ]
  },
  {
   "cell_type": "code",
   "execution_count": 204,
   "metadata": {},
   "outputs": [
    {
     "data": {
      "text/plain": [
       "('p', 'y', 't', 'h', 'o', 'n', 'n')"
      ]
     },
     "execution_count": 204,
     "metadata": {},
     "output_type": "execute_result"
    }
   ],
   "source": [
    "tuple(s)"
   ]
  },
  {
   "cell_type": "code",
   "execution_count": 205,
   "metadata": {},
   "outputs": [
    {
     "data": {
      "text/plain": [
       "{'h', 'n', 'o', 'p', 't', 'y'}"
      ]
     },
     "execution_count": 205,
     "metadata": {},
     "output_type": "execute_result"
    }
   ],
   "source": [
    "set(s)"
   ]
  },
  {
   "cell_type": "markdown",
   "metadata": {},
   "source": [
    "**Let's practise**"
   ]
  },
  {
   "cell_type": "code",
   "execution_count": null,
   "metadata": {},
   "outputs": [],
   "source": [
    "list(tuple(list('word')))"
   ]
  },
  {
   "cell_type": "code",
   "execution_count": null,
   "metadata": {},
   "outputs": [],
   "source": [
    "float(list(1000))"
   ]
  },
  {
   "cell_type": "code",
   "execution_count": null,
   "metadata": {},
   "outputs": [],
   "source": [
    "int(1000+1e3)"
   ]
  },
  {
   "cell_type": "code",
   "execution_count": null,
   "metadata": {},
   "outputs": [],
   "source": [
    "str(int(1000.222))"
   ]
  },
  {
   "cell_type": "markdown",
   "metadata": {},
   "source": [
    "# Great Job!"
   ]
  }
 ],
 "metadata": {
  "anaconda-cloud": {},
  "kernelspec": {
   "display_name": "Python 3",
   "language": "python",
   "name": "python3"
  },
  "language_info": {
   "codemirror_mode": {
    "name": "ipython",
    "version": 3
   },
   "file_extension": ".py",
   "mimetype": "text/x-python",
   "name": "python",
   "nbconvert_exporter": "python",
   "pygments_lexer": "ipython3",
   "version": "3.8.6"
  }
 },
 "nbformat": 4,
 "nbformat_minor": 1
}
