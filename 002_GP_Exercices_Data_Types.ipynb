{
 "cells": [
  {
   "cell_type": "markdown",
   "metadata": {
    "collapsed": true
   },
   "source": [
    "# Exercices\n",
    "---"
   ]
  },
  {
   "cell_type": "markdown",
   "metadata": {},
   "source": [
    "## Question 1\n",
    "\n",
    "Write an equation using addition and subtraction which output an integer 100.\n"
   ]
  },
  {
   "cell_type": "markdown",
   "metadata": {
    "collapsed": true
   },
   "source": [
    "## Question 2\n",
    "Write an equation using addition, multiplication, division, an exponent, and subtraction which output a float 50.50."
   ]
  },
  {
   "cell_type": "markdown",
   "metadata": {},
   "source": [
    "## Question 3\n",
    "\n",
    "What is the value of the expression (4 * (6 + 1000) )/ 100000 using exponent.\n",
    "\n",
    "Display the result using exponential format."
   ]
  },
  {
   "cell_type": "markdown",
   "metadata": {},
   "source": [
    "## Question 4\n",
    "\n",
    "Translate the following calculations:\n",
    "- Five power two\n",
    "- Square root eighty one\n",
    "- Cubic root twenty seven"
   ]
  },
  {
   "cell_type": "markdown",
   "metadata": {},
   "source": [
    "## Question 5\n",
    "\n",
    "Display a sentence where you fill in blanks \" My Name is ____, I am ____ years old and live in ___\" with your name,age and city."
   ]
  },
  {
   "cell_type": "markdown",
   "metadata": {
    "collapsed": true
   },
   "source": [
    "## Question 6\n",
    "\n",
    "From the previous sentence, divide the sentence in three parts where each one contains successively name, age and city"
   ]
  },
  {
   "cell_type": "markdown",
   "metadata": {},
   "source": [
    "## Question 7\n",
    "\n",
    "Count the number of occurences of the letter 'n'"
   ]
  },
  {
   "cell_type": "markdown",
   "metadata": {},
   "source": [
    "## Question 8\n",
    "\n",
    "Build a list of prime numbers inferior to 20"
   ]
  },
  {
   "cell_type": "markdown",
   "metadata": {
    "collapsed": true
   },
   "source": [
    "## Question 9\n",
    "\n",
    "Give the previous list length"
   ]
  },
  {
   "cell_type": "markdown",
   "metadata": {},
   "source": [
    "## Question 11\n",
    "\n",
    "Reverse the previous list"
   ]
  },
  {
   "cell_type": "markdown",
   "metadata": {
    "collapsed": true
   },
   "source": [
    "## Question 12\n",
    "\n",
    "Convert previous list to a tuple"
   ]
  },
  {
   "cell_type": "markdown",
   "metadata": {},
   "source": [
    "## Question 13\n",
    "\n",
    "Create a dictionnary where John, Chris, Jack, Sarah and Isabel have earned a revenue of 100,2000, 300, 3000,500"
   ]
  },
  {
   "cell_type": "markdown",
   "metadata": {
    "collapsed": true
   },
   "source": [
    "## Question 14\n",
    "\n",
    "Display keys of the previous dictionnary"
   ]
  },
  {
   "cell_type": "markdown",
   "metadata": {
    "collapsed": true
   },
   "source": [
    "## Question 15\n",
    "\n",
    "Display values of the previous dictionnary"
   ]
  },
  {
   "cell_type": "markdown",
   "metadata": {
    "collapsed": true
   },
   "source": [
    "## Question 16\n",
    "\n",
    "We made a mistake concerning Isable, she has earned 800. Correct this"
   ]
  },
  {
   "cell_type": "markdown",
   "metadata": {
    "collapsed": true
   },
   "source": [
    "## Question 17\n",
    "\n",
    "Who has the highest revenue ?"
   ]
  },
  {
   "cell_type": "markdown",
   "metadata": {},
   "source": [
    "## Question 18\n",
    "\n",
    "We forgot June, She has an revenue of 1000, Correct this"
   ]
  },
  {
   "cell_type": "markdown",
   "metadata": {},
   "source": [
    "## Question 19\n",
    "\n",
    "Why would we use tuple instead of lists ?"
   ]
  },
  {
   "cell_type": "markdown",
   "metadata": {},
   "source": [
    "## Question 20\n",
    "\n",
    "Use a set to find the unique values of the list below:\n",
    "\n",
    "[1,2,2,33,4,4,11,22,3,3,2]\n"
   ]
  },
  {
   "cell_type": "markdown",
   "metadata": {},
   "source": [
    "## Question 21\n",
    "\n",
    "Given a random list, how do we verify it doesn't contain duplicates ?\n",
    "\n",
    "[56, 49, 92, 18, 70, 83]\n",
    "\n",
    "[14, 13, 2, 15, 12, 2, 3, 16, 9, 5, 2]\n",
    "\n",
    "[12, 17, 20, 7, 5, 1, 23, 17, 14, 25, 5, 22, 24, 15, 26, 18, 17, 21, 6, 28]\n",
    "\n",
    "*hint: use sets and generate random list with *"
   ]
  },
  {
   "cell_type": "markdown",
   "metadata": {},
   "source": [
    "## Question 22\n",
    "\n",
    "Is:\n",
    "- 1e3 + 99 equal 1e4 -1  ?\n",
    "- 1e4 -1 superior to 1e3 + 999 + 1  ?\n",
    "- 1e4 - 999*1e1  inferior to 1e3 + 999 + 100  ?"
   ]
  },
  {
   "cell_type": "markdown",
   "metadata": {
    "collapsed": true
   },
   "source": [
    "## Question 23\n",
    "\n",
    "Build a list of length 10 and from it built a dictionnary where keys are this list indexes and values are list values\n",
    "\n",
    "*For example:*\n",
    "\n",
    "[10,100]\n",
    "\n",
    "{0:10, 1: 100}"
   ]
  },
  {
   "cell_type": "code",
   "execution_count": null,
   "metadata": {},
   "outputs": [],
   "source": []
  },
  {
   "cell_type": "markdown",
   "metadata": {},
   "source": [
    "## Great Job on the exercices! "
   ]
  }
 ],
 "metadata": {
  "anaconda-cloud": {},
  "kernelspec": {
   "display_name": "Python 3",
   "language": "python",
   "name": "python3"
  },
  "language_info": {
   "codemirror_mode": {
    "name": "ipython",
    "version": 3
   },
   "file_extension": ".py",
   "mimetype": "text/x-python",
   "name": "python",
   "nbconvert_exporter": "python",
   "pygments_lexer": "ipython3",
   "version": "3.8.6"
  }
 },
 "nbformat": 4,
 "nbformat_minor": 1
}
